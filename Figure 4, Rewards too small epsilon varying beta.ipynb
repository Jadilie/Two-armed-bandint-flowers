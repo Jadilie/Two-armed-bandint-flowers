{
 "cells": [
  {
   "cell_type": "code",
   "execution_count": 9,
   "id": "1d96acf7",
   "metadata": {},
   "outputs": [],
   "source": [
    "import matplotlib.pyplot as plt\n",
    "import numpy as np\n",
    "from scipy.stats import bernoulli"
   ]
  },
  {
   "cell_type": "code",
   "execution_count": 10,
   "id": "bbda5b5a",
   "metadata": {},
   "outputs": [],
   "source": [
    "# Generates rewards matrix of size (2, ktrials, Nflies,precision)\n",
    "# rb is a matrix of coeff_rs and zeros, and ry is a multiple of rb (the double if reward_quotient is set at 2)\n",
    "\n",
    "def create_rewards(ktrials,Nflies,precision):\n",
    "    r=np.random.randint(0,2,size=(ktrials,Nflies,precision))\n",
    "    \n",
    "    rb=coeff_r*r\n",
    "    ry=reward_quotient*rb \n",
    "    \n",
    "    rewards=np.asarray(np.empty((2,ktrials,Nflies,precision)))\n",
    "    rewards[0]=rb\n",
    "    rewards[1]=ry\n",
    "    return (rewards)"
   ]
  },
  {
   "cell_type": "code",
   "execution_count": 11,
   "id": "0e0b7c3a",
   "metadata": {},
   "outputs": [],
   "source": [
    "# Generates choice array  of size (2,Nflies)\n",
    "\n",
    "def choice (mb,my,beta):\n",
    "    Py = np.exp(beta * my) / (np.exp(beta * my) + np.exp(beta * mb))\n",
    "        \n",
    "    cy = bernoulli.rvs(Py)\n",
    "    cb = - cy +1\n",
    "    return [cb,cy]"
   ]
  },
  {
   "cell_type": "code",
   "execution_count": 12,
   "id": "2f0a0736",
   "metadata": {},
   "outputs": [],
   "source": [
    "# Returns the estimated and effective rewards, and the energy spent.\n",
    "# Respectively 2 arrays of size (Nflies,precision), an array of size (ktrials,Nflies,precision) and an array of size (Nflies,precision) \n",
    "\n",
    "def r_E_calcul(cb,cy,r_E_variables,rewards,i):\n",
    "    r_E_variables[\"expected_rb\"] = (1 - lambda_r * cb) * r_E_variables[\"expected_rb\"] + lambda_r*rewards[0][i] * cb\n",
    "    r_E_variables[\"expected_ry\"] = (1 - lambda_r * cy) * r_E_variables[\"expected_ry\"] + lambda_r*rewards[1][i] * cy\n",
    "    \n",
    "    r_E_variables[\"E\"] = r_E_variables[\"E\"] + (abs(r_E_variables[\"dmb\"]) + abs(r_E_variables[\"dmy\"]))*energy_factor\n",
    "    \n",
    "    r_E_variables[\"reward_received\"][i] = rewards[0][i]*cb+rewards[1][i]*cy\n",
    "      \n",
    "    return[r_E_variables[\"expected_rb\"],r_E_variables[\"expected_ry\"],r_E_variables[\"reward_received\"], r_E_variables[\"E\"]]"
   ]
  },
  {
   "cell_type": "code",
   "execution_count": 21,
   "id": "3ef11d96",
   "metadata": {},
   "outputs": [],
   "source": [
    "# Generates an array of the mean rewards obtained, of size (2,precision)\n",
    "\n",
    "def performance_energy(rewards, lambda_r, lambda_ARM):\n",
    "    m_max=1\n",
    "    x=1\n",
    "    \n",
    "    mean_random_r=150*coeff_r\n",
    "    max_r=200*coeff_r\n",
    "    \n",
    "    beta = np.linspace(0,1000000,precision)\n",
    "    \n",
    "    mb = np.zeros((Nflies,precision))\n",
    "    my = np.zeros((Nflies,precision))\n",
    "    \n",
    "    r_E_variables = { \"expected_rb\" : np.zeros((Nflies,precision)),\n",
    "                    \"expected_ry\" : np.zeros((Nflies,precision)),\n",
    "                    \"reward_received\" : np.empty((ktrials,Nflies,precision)),\n",
    "                    \"E\" : np.zeros((Nflies,precision))}\n",
    "    \n",
    "    perf_E = np.empty((2,precision))\n",
    "    \n",
    "    for i in range (ktrials) :\n",
    "        \n",
    "        [cb,cy]=choice(mb,my,beta)\n",
    "        \n",
    "        mb -= mb * lambda_ARM\n",
    "        r_E_variables[\"dmb\"] = cb * eps * (rewards[0][i] - r_E_variables[\"expected_rb\"]) * (x - mb/m_max)\n",
    "        \n",
    "        b_positive_correction=np.where(mb + r_E_variables[\"dmb\"] < 0)\n",
    "        r_E_variables[\"dmb\"][b_positive_correction]= 0 - mb[b_positive_correction]\n",
    "        \n",
    "        b_max_correction=np.where(mb + r_E_variables[\"dmb\"] > m_max)\n",
    "        r_E_variables[\"dmb\"][b_max_correction]= m_max - mb[b_max_correction]\n",
    "        \n",
    "        mb += r_E_variables[\"dmb\"]\n",
    "        \n",
    "        my -= my * lambda_ARM\n",
    "        r_E_variables[\"dmy\"] = cy * eps * (rewards[1][i] - r_E_variables[\"expected_ry\"]) * (x - my/m_max)\n",
    "        \n",
    "        y_positive_correction=np.where(my + r_E_variables[\"dmy\"] < 0)\n",
    "        r_E_variables[\"dmy\"][y_positive_correction]= 0 - my[y_positive_correction]\n",
    "        \n",
    "        y_max_correction=np.where(my + r_E_variables[\"dmy\"] > m_max)\n",
    "        r_E_variables[\"dmy\"][y_max_correction]= m_max - my[y_max_correction]\n",
    "        \n",
    "        my += r_E_variables[\"dmy\"]\n",
    "    \n",
    "        [r_E_variables[\"expected_rb\"],r_E_variables[\"expected_ry\"],r_E_variables[\"reward_received\"], r_E_variables[\"E\"]]=r_E_calcul(cb,cy,r_E_variables,rewards,i)\n",
    "    perf_E[0] = (sum(sum(r_E_variables[\"reward_received\"]))/Nflies - mean_random_r)/(max_r-mean_random_r)\n",
    "    perf_E[1] = sum(r_E_variables[\"E\"])/Nflies\n",
    "    return perf_E"
   ]
  },
  {
   "cell_type": "code",
   "execution_count": 29,
   "id": "e903c3f6",
   "metadata": {},
   "outputs": [],
   "source": [
    "# Parameters setting\n",
    "Nflies = 100\n",
    "ktrials = 200\n",
    "lambda_r=0.1\n",
    "coeff_r = 0.02\n",
    "reward_quotient = 2\n",
    "eps = 0.0001\n",
    "energy_factor = 30\n",
    "precision = 101"
   ]
  },
  {
   "cell_type": "code",
   "execution_count": 30,
   "id": "60055daa",
   "metadata": {},
   "outputs": [
    {
     "data": {
      "text/plain": [
       "Text(0.5, 1.0, 'Mean performance for different values of beta')"
      ]
     },
     "execution_count": 30,
     "metadata": {},
     "output_type": "execute_result"
    },
    {
     "data": {
      "image/png": "[encoded data removed]",
      "text/plain": [
       "<Figure size 432x288 with 1 Axes>"
      ]
     },
     "metadata": {
      "needs_background": "light"
     },
     "output_type": "display_data"
    }
   ],
   "source": [
    "#Plot of the performance for different values of beta\n",
    "plt.plot(performance_energy(create_rewards(ktrials,Nflies,precision), lambda_r, 0)[0])\n",
    "plt.ylabel(\"Performance\")\n",
    "plt.xlabel(\"Beta\")\n",
    "plt.xticks([0,20,40,60,80,100], [\"0\", \"200000\", \"400000\", \"600000\", \"800000\", \"1000000\"])\n",
    "plt.title(\"Mean performance for different values of beta\")"
   ]
  },
  {
   "cell_type": "code",
   "execution_count": null,
   "id": "c1630141",
   "metadata": {},
   "outputs": [],
   "source": []
  }
 ],
 "metadata": {
  "kernelspec": {
   "display_name": "Python 3 (ipykernel)",
   "language": "python",
   "name": "python3"
  },
  "language_info": {
   "codemirror_mode": {
    "name": "ipython",
    "version": 3
   },
   "file_extension": ".py",
   "mimetype": "text/x-python",
   "name": "python",
   "nbconvert_exporter": "python",
   "pygments_lexer": "ipython3",
   "version": "3.9.12"
  }
 },
 "nbformat": 4,
 "nbformat_minor": 5
}
