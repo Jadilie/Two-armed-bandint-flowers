{
 "cells": [
  {
   "cell_type": "code",
   "execution_count": 1,
   "id": "0e030a18",
   "metadata": {},
   "outputs": [],
   "source": [
    "import matplotlib.pyplot as plt\n",
    "import numpy as np\n",
    "from scipy.stats import bernoulli\n",
    "import matplotlib as mpl"
   ]
  },
  {
   "cell_type": "code",
   "execution_count": 2,
   "id": "0a47a650",
   "metadata": {},
   "outputs": [],
   "source": [
    "#Generates rewards matrix of size (2, ktrials, Nflies, precision, precision, precision)\n",
    "# rb varies, and ry is a multiple of rb (the double if reward_quotient is set at 2)\n",
    "\n",
    "def create_rewards(ktrials,Nflies,precision):\n",
    "    r=np.random.randint(0,2,size=(ktrials,Nflies,precision,precision,precision))\n",
    "    \n",
    "    rb=coeff_r*r\n",
    "    ry=reward_quotient*rb \n",
    "    \n",
    "    rewards=np.asarray(np.empty((2,ktrials,Nflies,precision,precision,precision)))\n",
    "    rewards[0]=rb\n",
    "    rewards[1]=ry\n",
    "    return (rewards)"
   ]
  },
  {
   "cell_type": "code",
   "execution_count": 3,
   "id": "5edb24bc",
   "metadata": {},
   "outputs": [],
   "source": [
    "# Generates choice array  of size (2,Nflies,precision,precision,precision)\n",
    "\n",
    "def choice (mb,my):\n",
    "    Py = np.exp(beta * my) / (np.exp(beta * my) + np.exp(beta * mb))\n",
    "        \n",
    "    cy = bernoulli.rvs(Py)\n",
    "    cb = - cy +1\n",
    "    return [cb,cy]"
   ]
  },
  {
   "cell_type": "code",
   "execution_count": 4,
   "id": "8285932d",
   "metadata": {},
   "outputs": [],
   "source": [
    "# Returns the estimated and effective rewards, and the energy spent.\n",
    "# Respectively 2 arrays of size (Nflies,precision,precision,precision), an array of size (ktrials,Nflies,precision,precision,precision) and an array of size (Nflies,precision,precision,precision) \n",
    "\n",
    "def r_E_calcul(cb,cy,r_E_variables,rewards,i,lambda_ARM):\n",
    "    r_E_variables[\"expected_rb\"] = (1 - lambda_r * cb) * r_E_variables[\"expected_rb\"] + lambda_r*rewards[0][i] * cb\n",
    "    r_E_variables[\"expected_ry\"] = (1 - lambda_r * cy) * r_E_variables[\"expected_ry\"] + lambda_r*rewards[1][i] * cy\n",
    "    \n",
    "    \n",
    "    r_E_variables[\"E\"]=np.where(lambda_ARM == 0,r_E_variables[\"E\"] + (abs(r_E_variables[\"dmb\"]) + abs(r_E_variables[\"dmy\"]))*energy_factor,0)\n",
    "    \n",
    "    r_E_variables[\"reward_received\"][i] = rewards[0][i]*cb+rewards[1][i]*cy\n",
    "      \n",
    "    return[r_E_variables[\"expected_rb\"],r_E_variables[\"expected_ry\"],r_E_variables[\"reward_received\"], r_E_variables[\"E\"]]"
   ]
  },
  {
   "cell_type": "code",
   "execution_count": 5,
   "id": "8029a166",
   "metadata": {},
   "outputs": [],
   "source": [
    "# Generates an array of the mean reward received and energy spent, of size (2, precision, precision)\n",
    "\n",
    "def sum_reward_energy(rewards, beta, lambda_r,model):\n",
    "    m_max=1\n",
    "    x=1\n",
    "    \n",
    "    eps = np.linspace(np.zeros((precision,precision)),np.ones((precision,precision)),precision)\n",
    "    \n",
    "    mb = np.zeros((Nflies,precision,precision,precision))\n",
    "    my = np.zeros((Nflies,precision,precision,precision))\n",
    "    \n",
    "    r_E_variables = { \"expected_rb\" : np.zeros((Nflies,precision,precision,precision)),\n",
    "                    \"expected_ry\" : np.zeros((Nflies,precision,precision,precision)),\n",
    "                    \"reward_received\" : np.empty((ktrials,Nflies,precision,precision,precision)),\n",
    "                    \"E\" : np.zeros((Nflies,precision,precision,precision))}\n",
    "    \n",
    "    reward_E = np.empty((2,precision,precision))\n",
    "    \n",
    "    for i in range (ktrials) :\n",
    "        \n",
    "        [cb,cy]=choice(mb,my)\n",
    "        \n",
    "        lambda_ARM= np.zeros((Nflies,precision,precision,precision))\n",
    "        \n",
    "        if model==\"ARM\":\n",
    "            lambda_ARM = 1/2.5\n",
    "        else :\n",
    "            lambda_ARM[np.where(r_E_variables[\"expected_rb\"]*cb + r_E_variables[\"expected_ry\"]*cy < threshold)] = 1/2.5\n",
    "        \n",
    "        mb -= mb * lambda_ARM\n",
    "        r_E_variables[\"dmb\"] = cb * eps * (rewards[0][i] - r_E_variables[\"expected_rb\"]) * (x - mb/m_max)\n",
    "        \n",
    "        b_positive_correction=np.where(mb + r_E_variables[\"dmb\"] < 0)\n",
    "        r_E_variables[\"dmb\"][b_positive_correction]= 0 - mb[b_positive_correction]\n",
    "        \n",
    "        b_max_correction=np.where(mb + r_E_variables[\"dmb\"] > m_max)\n",
    "        r_E_variables[\"dmb\"][b_max_correction]= m_max - mb[b_max_correction]\n",
    "        \n",
    "        mb += r_E_variables[\"dmb\"]\n",
    "        \n",
    "        my -= my * lambda_ARM\n",
    "        r_E_variables[\"dmy\"] = cy * eps * (rewards[1][i] - r_E_variables[\"expected_ry\"]) * (x - my/m_max)\n",
    "        \n",
    "        y_positive_correction=np.where(my + r_E_variables[\"dmy\"] < 0)\n",
    "        r_E_variables[\"dmy\"][y_positive_correction]= 0 - my[y_positive_correction]\n",
    "        \n",
    "        y_max_correction=np.where(my + r_E_variables[\"dmy\"] > m_max)\n",
    "        r_E_variables[\"dmy\"][y_max_correction]= m_max - my[y_max_correction]\n",
    "        \n",
    "        my += r_E_variables[\"dmy\"]\n",
    "    \n",
    "        \n",
    "        [r_E_variables[\"expected_rb\"],r_E_variables[\"expected_ry\"],r_E_variables[\"reward_received\"], r_E_variables[\"E\"]]=r_E_calcul(cb,cy,r_E_variables,rewards,i,lambda_ARM)\n",
    "    reward_E[0] = sum(sum(sum(r_E_variables[\"reward_received\"])))/(Nflies*precision)\n",
    "    reward_E[1] = sum(sum(r_E_variables[\"E\"]))/(Nflies*precision)\n",
    "    return reward_E\n"
   ]
  },
  {
   "cell_type": "code",
   "execution_count": 6,
   "id": "a8ecaf42",
   "metadata": {},
   "outputs": [],
   "source": [
    "# Parameters setting\n",
    "Nflies = 100\n",
    "ktrials = 200\n",
    "precision = 41\n",
    "lambda_r=0.1\n",
    "beta=7\n",
    "coeff_r =np.empty((precision,precision,precision))\n",
    "for i in range(precision):\n",
    "    coeff_r[i]=np.linspace(np.zeros(precision),np.ones(precision)*10,precision)\n",
    "reward_quotient = 2\n",
    "energy_factor=30\n",
    "threshold = np.linspace(np.zeros((precision,precision)),np.ones((precision,precision))*20,precision).T"
   ]
  },
  {
   "cell_type": "code",
   "execution_count": 7,
   "id": "f28a7b6d",
   "metadata": {},
   "outputs": [],
   "source": [
    "# Generates an array of the mean reward received and energy spent, using LTM when above the threshold, and when using ARM only, of size (2,2,precision, precision)\n",
    "all_reward_E = np.empty((2,2,precision,precision))\n",
    "all_reward_E[0] = sum_reward_energy(create_rewards(ktrials,Nflies,precision), beta, lambda_r, \"Threshold\")\n",
    "all_reward_E[1] = sum_reward_energy(create_rewards(ktrials,Nflies,precision), beta, lambda_r,\"ARM\")"
   ]
  },
  {
   "cell_type": "code",
   "execution_count": 8,
   "id": "d7e79931",
   "metadata": {},
   "outputs": [
    {
     "name": "stderr",
     "output_type": "stream",
     "text": [
      "/var/folders/zf/tw6675q13m14kfmvcjj4h4s40000gn/T/ipykernel_6237/1068746967.py:6: RuntimeWarning: invalid value encountered in true_divide\n",
      "  perf[0] = (all_reward_E[0,0] - mean_random_r) / (max_r - mean_random_r)\n",
      "/var/folders/zf/tw6675q13m14kfmvcjj4h4s40000gn/T/ipykernel_6237/1068746967.py:7: RuntimeWarning: invalid value encountered in true_divide\n",
      "  perf[1] = (all_reward_E[1,0] - mean_random_r) / (max_r - mean_random_r)\n"
     ]
    }
   ],
   "source": [
    "# Generates an array of the the mean performance\n",
    "# Size (2,precision, precision)\n",
    "mean_random_r=150*sum(coeff_r)/precision\n",
    "max_r=200*sum(coeff_r)/precision\n",
    "perf = np.empty((2,precision,precision))\n",
    "perf[0] = (all_reward_E[0,0] - mean_random_r) / (max_r - mean_random_r)\n",
    "perf[1] = (all_reward_E[1,0] - mean_random_r) / (max_r - mean_random_r)"
   ]
  },
  {
   "cell_type": "code",
   "execution_count": 9,
   "id": "9fcf5ad2",
   "metadata": {},
   "outputs": [],
   "source": [
    "# Generates an array of the energy gain of the threshold model\n",
    "# Size (precision, precision)\n",
    "Threshold_E_gain = all_reward_E[0,0] - all_reward_E[0,1]- all_reward_E[1,0]"
   ]
  },
  {
   "cell_type": "code",
   "execution_count": 10,
   "id": "5965b5c1",
   "metadata": {},
   "outputs": [],
   "source": [
    "# Plots the chosen parameter as a fonction of the threshold and the mean reward which would be received without learning\n",
    "\n",
    "def Plot(P,Title,norm):\n",
    "    plt.colorbar(plt.imshow(P, origin=\"lower\",cmap=\"jet\",norm=norm))\n",
    "    plt.xlabel('Threshold')\n",
    "    plt.ylabel('Mean reward at random')\n",
    "    ticks=[0,8,16,24,32,40]\n",
    "    threshold_label=[\"0\", \"4\", \"8\", \"12\", \"16\", \"20\"]\n",
    "    plt.xticks(ticks, threshold_label)\n",
    "    r_label=[\"0\", \"300\", \"600\", \"900\", \"1200\", \"1500\"]\n",
    "    plt.yticks(ticks, r_label)\n",
    "    plt.title(Title)"
   ]
  },
  {
   "cell_type": "code",
   "execution_count": 11,
   "id": "9bcc88be",
   "metadata": {},
   "outputs": [
    {
     "data": {
      "image/png": "[encoded data removed]",
      "text/plain": [
       "<Figure size 432x288 with 2 Axes>"
      ]
     },
     "metadata": {
      "needs_background": "light"
     },
     "output_type": "display_data"
    }
   ],
   "source": [
    "#Plot of the performance for each threshold and mean reward at random value\n",
    "Plot(perf[0],\"(A) Performance\",mpl.colors.Normalize(vmin=0, vmax=1))"
   ]
  },
  {
   "cell_type": "code",
   "execution_count": 12,
   "id": "97dfad5f",
   "metadata": {},
   "outputs": [
    {
     "data": {
      "image/png": "[encoded data removed]",
      "text/plain": [
       "<Figure size 432x288 with 2 Axes>"
      ]
     },
     "metadata": {
      "needs_background": "light"
     },
     "output_type": "display_data"
    }
   ],
   "source": [
    "#Plot of the energy spent for each threshold and mean reward at random value\n",
    "Plot(all_reward_E[0,1],\"(B) Energy spent\",None)"
   ]
  },
  {
   "cell_type": "code",
   "execution_count": 13,
   "id": "3ca98db6",
   "metadata": {},
   "outputs": [
    {
     "data": {
      "image/png": "[encoded data removed]",
      "text/plain": [
       "<Figure size 432x288 with 2 Axes>"
      ]
     },
     "metadata": {
      "needs_background": "light"
     },
     "output_type": "display_data"
    }
   ],
   "source": [
    "# Plot of the energy gain of the model for each threshold and mean reward at random value\n",
    "Plot(Threshold_E_gain,\"(C) Energy gain\",mpl.colors.Normalize(vmin=-55, vmax=500))"
   ]
  },
  {
   "cell_type": "code",
   "execution_count": 14,
   "id": "5cf367b1",
   "metadata": {},
   "outputs": [
    {
     "data": {
      "text/plain": [
       "Text(0.5, 1.0, '(D) Best threshold value for each mean reward at random')"
      ]
     },
     "execution_count": 14,
     "metadata": {},
     "output_type": "execute_result"
    },
    {
     "data": {
      "image/png": "[encoded data removed]",
      "text/plain": [
       "<Figure size 432x288 with 1 Axes>"
      ]
     },
     "metadata": {
      "needs_background": "light"
     },
     "output_type": "display_data"
    }
   ],
   "source": [
    "#Plot of the threshold value for which (r with threshold - r with ARM - energy spent) is highest for each epsilon value\n",
    "best_threshold=np.argmax(Threshold_E_gain,axis=1)*20/precision\n",
    "plt.plot(best_threshold)\n",
    "plt.xlabel(\"Mean reward at random\")\n",
    "plt.ylabel(\"Best threshold\")\n",
    "ticks = [0,8,16,24,32,40]\n",
    "r_label=[\"0\", \"300\", \"600\", \"900\", \"1200\", \"1500\"]\n",
    "plt.xticks(ticks, r_label)\n",
    "plt.title(\"(D) Best threshold value for each mean reward at random\")"
   ]
  },
  {
   "cell_type": "code",
   "execution_count": null,
   "id": "6b6e64a2",
   "metadata": {},
   "outputs": [],
   "source": []
  }
 ],
 "metadata": {
  "kernelspec": {
   "display_name": "Python 3 (ipykernel)",
   "language": "python",
   "name": "python3"
  },
  "language_info": {
   "codemirror_mode": {
    "name": "ipython",
    "version": 3
   },
   "file_extension": ".py",
   "mimetype": "text/x-python",
   "name": "python",
   "nbconvert_exporter": "python",
   "pygments_lexer": "ipython3",
   "version": "3.9.12"
  }
 },
 "nbformat": 4,
 "nbformat_minor": 5
}
