{
 "cells": [
  {
   "cell_type": "code",
   "execution_count": 1,
   "id": "1d96acf7",
   "metadata": {},
   "outputs": [],
   "source": [
    "import matplotlib.pyplot as plt\n",
    "import numpy as np\n",
    "from scipy.stats import bernoulli"
   ]
  },
  {
   "cell_type": "code",
   "execution_count": 2,
   "id": "bbda5b5a",
   "metadata": {},
   "outputs": [],
   "source": [
    "# Generates rewards matrix of size (2, ktrials, Nflies)\n",
    "# rb is a matrix of coeff_rs and zeros, and ry is a multiple of rb (the double if reward_quotient is set at 2)\n",
    "\n",
    "def create_rewards(ktrials,Nflies):\n",
    "    r=np.random.randint(0,2,size=(ktrials,Nflies))\n",
    "    \n",
    "    rb=coeff_r*r\n",
    "    ry=reward_quotient*rb \n",
    "    \n",
    "    rewards=np.asarray(np.empty((2,ktrials,Nflies)))\n",
    "    rewards[0]=rb\n",
    "    rewards[1]=ry\n",
    "    return (rewards)"
   ]
  },
  {
   "cell_type": "code",
   "execution_count": 3,
   "id": "0e0b7c3a",
   "metadata": {},
   "outputs": [],
   "source": [
    "# Generates choice array  of size (2,Nflies)\n",
    "\n",
    "def choice (mb,my):\n",
    "    Py = np.exp(beta * my) / (np.exp(beta * my) + np.exp(beta * mb))\n",
    "        \n",
    "    cy = bernoulli.rvs(Py)\n",
    "    cb = - cy +1\n",
    "    return [cb,cy]"
   ]
  },
  {
   "cell_type": "code",
   "execution_count": 4,
   "id": "2f0a0736",
   "metadata": {},
   "outputs": [],
   "source": [
    "# Returns the estimated and effective rewards, and the energy spent.\n",
    "# Respectively 2 arrays of size Nflies, an array of size (ktrials,Nflies) and an array of size Nflies\n",
    "\n",
    "def r_E_calcul(cb,cy,r_E_variables,rewards,i):\n",
    "    r_E_variables[\"expected_rb\"] = (1 - lambda_r * cb) * r_E_variables[\"expected_rb\"] + lambda_r*rewards[0][i] * cb\n",
    "    r_E_variables[\"expected_ry\"] = (1 - lambda_r * cy) * r_E_variables[\"expected_ry\"] + lambda_r*rewards[1][i] * cy\n",
    "    \n",
    "    r_E_variables[\"E\"] = r_E_variables[\"E\"] + (abs(r_E_variables[\"dmb\"]) + abs(r_E_variables[\"dmy\"]))*energy_factor\n",
    "    \n",
    "    r_E_variables[\"reward_received\"][i] = rewards[0][i]*cb+rewards[1][i]*cy\n",
    "      \n",
    "    return[r_E_variables[\"expected_rb\"],r_E_variables[\"expected_ry\"],r_E_variables[\"reward_received\"], r_E_variables[\"E\"]]"
   ]
  },
  {
   "cell_type": "code",
   "execution_count": 5,
   "id": "3ef11d96",
   "metadata": {},
   "outputs": [],
   "source": [
    "# Generates an array of the weights at each time step, of size (2,ktrials)\n",
    "\n",
    "def weights(rewards, beta, eps, lambda_r, lambda_ARM):\n",
    "    m_max=1\n",
    "    x=1\n",
    "    \n",
    "    mb = np.zeros(Nflies)\n",
    "    my = np.zeros(Nflies)\n",
    "    \n",
    "    r_E_variables = { \"expected_rb\" : np.zeros(Nflies),\n",
    "                    \"expected_ry\" : np.zeros(Nflies),\n",
    "                    \"reward_received\" : np.empty((ktrials,Nflies)),\n",
    "                    \"E\" : np.zeros(Nflies)}\n",
    "    \n",
    "    weights = np.empty((2,ktrials,Nflies))\n",
    "    expected_rewards = np.empty((2,ktrials))\n",
    "    \n",
    "    for i in range (ktrials) :\n",
    "        \n",
    "        [cb,cy]=choice(mb,my)\n",
    "        \n",
    "        mb -= mb * lambda_ARM\n",
    "        r_E_variables[\"dmb\"] = cb * eps * (rewards[0][i] - r_E_variables[\"expected_rb\"]) * (x - mb/m_max)\n",
    "        \n",
    "        b_positive_correction=np.where(mb + r_E_variables[\"dmb\"] < 0)\n",
    "        r_E_variables[\"dmb\"][b_positive_correction]= 0 - mb[b_positive_correction]\n",
    "        \n",
    "        b_max_correction=np.where(mb + r_E_variables[\"dmb\"] > m_max)\n",
    "        r_E_variables[\"dmb\"][b_max_correction]= m_max - mb[b_max_correction]\n",
    "        \n",
    "        mb += r_E_variables[\"dmb\"]\n",
    "        \n",
    "        my -= my * lambda_ARM\n",
    "        r_E_variables[\"dmy\"] = cy * eps * (rewards[1][i] - r_E_variables[\"expected_ry\"]) * (x - my/m_max)\n",
    "        \n",
    "        y_positive_correction=np.where(my + r_E_variables[\"dmy\"] < 0)\n",
    "        r_E_variables[\"dmy\"][y_positive_correction]= 0 - my[y_positive_correction]\n",
    "        \n",
    "        y_max_correction=np.where(my + r_E_variables[\"dmy\"] > m_max)\n",
    "        r_E_variables[\"dmy\"][y_max_correction]= m_max - my[y_max_correction]\n",
    "        \n",
    "        my += r_E_variables[\"dmy\"]\n",
    "    \n",
    "        [r_E_variables[\"expected_rb\"],r_E_variables[\"expected_ry\"],r_E_variables[\"reward_received\"], r_E_variables[\"E\"]]=r_E_calcul(cb,cy,r_E_variables,rewards,i)\n",
    "        \n",
    "        weights[0,i] = mb\n",
    "        weights[1,i] = my\n",
    "        expected_rewards[0,i] = sum(r_E_variables[\"expected_rb\"])\n",
    "        expected_rewards[1,i] = sum(r_E_variables[\"expected_ry\"])\n",
    "    return weights"
   ]
  },
  {
   "cell_type": "code",
   "execution_count": 6,
   "id": "e903c3f6",
   "metadata": {},
   "outputs": [],
   "source": [
    "# Parameters setting\n",
    "Nflies = 100\n",
    "ktrials = 200\n",
    "lambda_r=0.1\n",
    "beta=7\n",
    "eps = 0.5\n",
    "coeff_r = 5\n",
    "reward_quotient = 2\n",
    "energy_factor = 30"
   ]
  },
  {
   "cell_type": "code",
   "execution_count": 7,
   "id": "60055daa",
   "metadata": {},
   "outputs": [
    {
     "data": {
      "text/plain": [
       "Text(0.5, 1.0, '(E) Blue weights across trials epsilon * mean R = 750')"
      ]
     },
     "execution_count": 7,
     "metadata": {},
     "output_type": "execute_result"
    },
    {
     "data": {
      "image/png": "[encoded data removed]",
      "text/plain": [
       "<Figure size 432x288 with 1 Axes>"
      ]
     },
     "metadata": {
      "needs_background": "light"
     },
     "output_type": "display_data"
    }
   ],
   "source": [
    "# Plot of the cumulative blue weights as a function of trials, for each fly\n",
    "for i in range (Nflies):\n",
    "    plt.plot(weights(create_rewards(ktrials,Nflies), beta, eps, lambda_r, 0)[0,:,i])\n",
    "plt.xlabel(\"Trials\")\n",
    "plt.ylabel(\"mb\")\n",
    "plt.title(\"(E) Blue weights across trials epsilon * mean R = 750\")\n"
   ]
  },
  {
   "cell_type": "code",
   "execution_count": 8,
   "id": "14f65b63",
   "metadata": {},
   "outputs": [
    {
     "data": {
      "text/plain": [
       "Text(0.5, 1.0, '(F) Yellow weights across trials, epsilon * mean R = 750')"
      ]
     },
     "execution_count": 8,
     "metadata": {},
     "output_type": "execute_result"
    },
    {
     "data": {
      "image/png": "[encoded data removed]",
      "text/plain": [
       "<Figure size 432x288 with 1 Axes>"
      ]
     },
     "metadata": {
      "needs_background": "light"
     },
     "output_type": "display_data"
    }
   ],
   "source": [
    "# Plot of the yellow weights as a function of trials, for each fly\n",
    "for i in range (Nflies):\n",
    "    plt.plot(weights(create_rewards(ktrials,Nflies), beta, eps, lambda_r, 0)[1,:,i])\n",
    "plt.xlabel(\"Trials\")\n",
    "plt.ylabel(\"my\")\n",
    "plt.title(\"(F) Yellow weights across trials, epsilon * mean R = 750\")"
   ]
  },
  {
   "cell_type": "code",
   "execution_count": null,
   "id": "c9c78aa9",
   "metadata": {},
   "outputs": [],
   "source": []
  }
 ],
 "metadata": {
  "kernelspec": {
   "display_name": "Python 3 (ipykernel)",
   "language": "python",
   "name": "python3"
  },
  "language_info": {
   "codemirror_mode": {
    "name": "ipython",
    "version": 3
   },
   "file_extension": ".py",
   "mimetype": "text/x-python",
   "name": "python",
   "nbconvert_exporter": "python",
   "pygments_lexer": "ipython3",
   "version": "3.9.12"
  }
 },
 "nbformat": 4,
 "nbformat_minor": 5
}
